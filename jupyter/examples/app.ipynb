{
 "cells": [
  {
   "cell_type": "code",
   "execution_count": 1,
   "id": "55147ece-9d00-4ea8-ac06-c4861540320b",
   "metadata": {},
   "outputs": [
    {
     "name": "stdout",
     "output_type": "stream",
     "text": [
      ":: loading settings :: url = jar:file:/usr/local/lib/python3.9/site-packages/pyspark/jars/ivy-2.5.1.jar!/org/apache/ivy/core/settings/ivysettings.xml\n"
     ]
    },
    {
     "name": "stderr",
     "output_type": "stream",
     "text": [
      "Ivy Default Cache set to: /root/.ivy2/cache\n",
      "The jars for the packages stored in: /root/.ivy2/jars\n",
      "org.apache.hadoop#hadoop-aws added as a dependency\n",
      "com.amazonaws#aws-java-sdk-bundle added as a dependency\n",
      ":: resolving dependencies :: org.apache.spark#spark-submit-parent-ad5f9b54-8c29-4b8a-8ad4-7cbb8ece2ea1;1.0\n",
      "\tconfs: [default]\n",
      "\tfound org.apache.hadoop#hadoop-aws;3.3.4 in central\n",
      "\tfound com.amazonaws#aws-java-sdk-bundle;1.12.262 in central\n",
      "\tfound org.wildfly.openssl#wildfly-openssl;1.0.7.Final in central\n",
      ":: resolution report :: resolve 299ms :: artifacts dl 13ms\n",
      "\t:: modules in use:\n",
      "\tcom.amazonaws#aws-java-sdk-bundle;1.12.262 from central in [default]\n",
      "\torg.apache.hadoop#hadoop-aws;3.3.4 from central in [default]\n",
      "\torg.wildfly.openssl#wildfly-openssl;1.0.7.Final from central in [default]\n",
      "\t:: evicted modules:\n",
      "\tcom.amazonaws#aws-java-sdk-bundle;1.11.1026 by [com.amazonaws#aws-java-sdk-bundle;1.12.262] in [default]\n",
      "\t---------------------------------------------------------------------\n",
      "\t|                  |            modules            ||   artifacts   |\n",
      "\t|       conf       | number| search|dwnlded|evicted|| number|dwnlded|\n",
      "\t---------------------------------------------------------------------\n",
      "\t|      default     |   4   |   0   |   0   |   1   ||   3   |   0   |\n",
      "\t---------------------------------------------------------------------\n",
      ":: retrieving :: org.apache.spark#spark-submit-parent-ad5f9b54-8c29-4b8a-8ad4-7cbb8ece2ea1\n",
      "\tconfs: [default]\n",
      "\t0 artifacts copied, 3 already retrieved (0kB/10ms)\n",
      "24/02/16 04:07:29 WARN NativeCodeLoader: Unable to load native-hadoop library for your platform... using builtin-java classes where applicable\n",
      "Setting default log level to \"WARN\".\n",
      "To adjust logging level use sc.setLogLevel(newLevel). For SparkR, use setLogLevel(newLevel).\n",
      "24/02/16 04:07:31 WARN Utils: Service 'SparkUI' could not bind on port 4040. Attempting port 4041.\n",
      "24/02/16 04:07:32 WARN MetricsConfig: Cannot locate configuration: tried hadoop-metrics2-s3a-file-system.properties,hadoop-metrics2.properties\n"
     ]
    },
    {
     "data": {
      "text/html": [
       "\n",
       "            <div>\n",
       "                <p><b>SparkSession - hive</b></p>\n",
       "                \n",
       "        <div>\n",
       "            <p><b>SparkContext</b></p>\n",
       "\n",
       "            <p><a href=\"http://dc578682cf76:4041\">Spark UI</a></p>\n",
       "\n",
       "            <dl>\n",
       "              <dt>Version</dt>\n",
       "                <dd><code>v3.5.0</code></dd>\n",
       "              <dt>Master</dt>\n",
       "                <dd><code>spark://spark-master:7078</code></dd>\n",
       "              <dt>AppName</dt>\n",
       "                <dd><code>ETL</code></dd>\n",
       "            </dl>\n",
       "        </div>\n",
       "        \n",
       "            </div>\n",
       "        "
      ],
      "text/plain": [
       "<pyspark.sql.session.SparkSession at 0x7f5611bcf700>"
      ]
     },
     "execution_count": 1,
     "metadata": {},
     "output_type": "execute_result"
    }
   ],
   "source": [
    "from pyspark.sql import SparkSession\n",
    "from pyspark.sql import functions as F\n",
    "\n",
    "\n",
    "def get_spark_session(appname, hive_metastore, minio_url,\n",
    "                      minio_access_key, minio_secret_key):\n",
    "\n",
    "    spark = (SparkSession.builder\n",
    "             .appName(appname)\n",
    "             .master(\"spark://spark-master:7078\")\n",
    "             .config(\"spark.network.timeout\", \"10000s\")\n",
    "             .config(\"spark.sql.warehouse.dir\", \"s3a://spark/datalake\")\n",
    "             .config(\"spark.hadoop.hive.metastore.uris\", hive_metastore)\n",
    "             .config(\"spark.jars.packages\", \"org.apache.hadoop:hadoop-aws:3.3.4,com.amazonaws:aws-java-sdk-bundle:1.11.1026\") \\\n",
    "             #.config(\"spark.hadoop.hive.exec.dynamic.partition\", \"true\")\n",
    "             #.config(\"spark.hadoop.hive.exec.dynamic.partition.mode\", \"nonstrict\")\n",
    "             .config(\"spark.sql.sources.partitionOverwriteMode\", \"dynamic\")\n",
    "             .config(\"spark.hadoop.fs.s3a.multiobjectdelete.enable\", \"true\")\n",
    "             .config(\"spark.hadoop.fs.s3a.impl\", \"org.apache.hadoop.fs.s3a.S3AFileSystem\")\n",
    "             .config(\"spark.hadoop.fs.s3a.fast.upload\", \"true\")\n",
    "             .config(\"spark.hadoop.fs.s3a.endpoint\", minio_url)\n",
    "             .config(\"spark.hadoop.fs.s3a.access.key\", minio_access_key)\n",
    "             .config(\"spark.hadoop.fs.s3a.secret.key\", minio_secret_key)\n",
    "             .config(\"spark.hadoop.fs.s3a.path.style.access\", \"true\")\n",
    "             .config(\"spark.history.fs.logDirectory\", \"s3a://spark/\")\n",
    "             .config(\"spark.sql.files.ignoreMissingFiles\", \"true\")\n",
    "\n",
    "             .enableHiveSupport()\n",
    "             .getOrCreate())\n",
    "    return spark\n",
    "\n",
    "spark = get_spark_session(\"ETL\", \"thrift://hive-metastore:9083\", \"http://minio:9000\",\n",
    "                          \"root\", \"root12345\")\n",
    "\n",
    "spark"
   ]
  },
  {
   "cell_type": "code",
   "execution_count": 2,
   "id": "82e4c134-f2bc-4148-b47a-16bd396721fe",
   "metadata": {},
   "outputs": [],
   "source": [
    "df = spark.table(\"mybase2.nomes_pessoas2\")\n"
   ]
  },
  {
   "cell_type": "code",
   "execution_count": 3,
   "id": "900f8fe7-2777-47f2-b07d-b2ec1acf84a9",
   "metadata": {},
   "outputs": [
    {
     "name": "stderr",
     "output_type": "stream",
     "text": [
      "24/02/16 04:08:04 WARN TaskSchedulerImpl: Initial job has not accepted any resources; check your cluster UI to ensure that workers are registered and have sufficient resources\n",
      "24/02/16 04:08:19 WARN TaskSchedulerImpl: Initial job has not accepted any resources; check your cluster UI to ensure that workers are registered and have sufficient resources\n",
      "24/02/16 04:08:34 WARN TaskSchedulerImpl: Initial job has not accepted any resources; check your cluster UI to ensure that workers are registered and have sufficient resources\n",
      "                                                                                \r"
     ]
    },
    {
     "name": "stdout",
     "output_type": "stream",
     "text": [
      "+----------+---+\n",
      "|first_name|age|\n",
      "+----------+---+\n",
      "|     luisa| 22|\n",
      "|       joe| 34|\n",
      "+----------+---+\n",
      "\n"
     ]
    }
   ],
   "source": [
    "df.show()"
   ]
  }
 ],
 "metadata": {
  "kernelspec": {
   "display_name": "Python 3 (ipykernel)",
   "language": "python",
   "name": "python3"
  },
  "language_info": {
   "codemirror_mode": {
    "name": "ipython",
    "version": 3
   },
   "file_extension": ".py",
   "mimetype": "text/x-python",
   "name": "python",
   "nbconvert_exporter": "python",
   "pygments_lexer": "ipython3",
   "version": "3.9.18"
  }
 },
 "nbformat": 4,
 "nbformat_minor": 5
}
